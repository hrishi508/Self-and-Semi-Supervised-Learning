{
  "cells": [
    {
      "cell_type": "markdown",
      "metadata": {
        "id": "view-in-github",
        "colab_type": "text"
      },
      "source": [
        "<a href=\"https://colab.research.google.com/github/hrishi508/Self-and-Semi-Supervised-Learning/blob/main/Supervised_Learning.ipynb\" target=\"_parent\"><img src=\"https://colab.research.google.com/assets/colab-badge.svg\" alt=\"Open In Colab\"/></a>"
      ]
    },
    {
      "cell_type": "markdown",
      "metadata": {
        "id": "sofe8YH8BOEN"
      },
      "source": [
        "## Imports"
      ]
    },
    {
      "cell_type": "code",
      "execution_count": 17,
      "metadata": {
        "id": "KyagcRRwMeo5"
      },
      "outputs": [],
      "source": [
        "import torch\n",
        "import torch.nn as nn\n",
        "import torch.nn.functional as F\n",
        "from torchvision import datasets\n",
        "from torch.utils.data import Dataset\n",
        "from torch.utils.data import DataLoader\n",
        "from torchvision.transforms import ToTensor\n",
        "import torchvision.transforms as transforms\n",
        "\n",
        "import time\n",
        "import numpy as np\n",
        "import matplotlib.pyplot as plt"
      ]
    },
    {
      "cell_type": "code",
      "execution_count": 18,
      "metadata": {
        "colab": {
          "base_uri": "https://localhost:8080/"
        },
        "id": "DMyDn3HSLhq9",
        "outputId": "53bb281e-978d-474d-8121-4ff856ffdc2f"
      },
      "outputs": [
        {
          "output_type": "stream",
          "name": "stdout",
          "text": [
            "Drive already mounted at /content/drive; to attempt to forcibly remount, call drive.mount(\"/content/drive\", force_remount=True).\n",
            "/content/drive/MyDrive\n"
          ]
        }
      ],
      "source": [
        "from google.colab import drive\n",
        "drive.mount('/content/drive')\n",
        "\n",
        "%cd /content/drive/MyDrive/"
      ]
    },
    {
      "cell_type": "code",
      "execution_count": 19,
      "metadata": {
        "colab": {
          "base_uri": "https://localhost:8080/",
          "height": 35
        },
        "id": "ZyzT-NmPUWig",
        "outputId": "635a8209-b850-4352-f152-d6a2066d59df"
      },
      "outputs": [
        {
          "output_type": "execute_result",
          "data": {
            "application/vnd.google.colaboratory.intrinsic+json": {
              "type": "string"
            },
            "text/plain": [
              "'cuda'"
            ]
          },
          "metadata": {},
          "execution_count": 19
        }
      ],
      "source": [
        "device = 'cuda' if torch.cuda.is_available() else 'cpu'\n",
        "device"
      ]
    },
    {
      "cell_type": "markdown",
      "metadata": {
        "id": "Ty1XcIxvBShg"
      },
      "source": [
        "## Data Preparation"
      ]
    },
    {
      "cell_type": "code",
      "execution_count": 20,
      "metadata": {
        "id": "zYLWrg3vOr87"
      },
      "outputs": [],
      "source": [
        "transform = transforms.Compose([\n",
        "    transforms.ToTensor(),\n",
        "    transforms.RandomHorizontalFlip(),\n",
        "    transforms.Normalize([0.485, 0.456, 0.406], [0.229, 0.224, 0.225]),\n",
        "    transforms.RandomVerticalFlip(p=0.5),\n",
        "    transforms.RandomRotation(15)\n",
        "])\n",
        "\n",
        "training_data = datasets.STL10(\n",
        "    root=\"data\",\n",
        "    split=\"train\",\n",
        "    transform=transform,\n",
        "    download=False\n",
        ")\n",
        "\n",
        "test_data = datasets.STL10(\n",
        "    root=\"data\",\n",
        "    split='test',\n",
        "    transform=transform,\n",
        "    download=False\n",
        ")"
      ]
    },
    {
      "cell_type": "code",
      "execution_count": 21,
      "metadata": {
        "id": "JSBxBfF4TPpc"
      },
      "outputs": [],
      "source": [
        "## HYPERPARAMETERS\n",
        "BATCH_SIZE = 64\n",
        "LR = 0.001\n",
        "EPOCHS = 100\n",
        "\n",
        "test_dataloader = DataLoader(test_data, batch_size=BATCH_SIZE, shuffle=True)\n",
        "train_dataloader = DataLoader(training_data, batch_size=BATCH_SIZE, shuffle=True)"
      ]
    },
    {
      "cell_type": "code",
      "execution_count": 22,
      "metadata": {
        "id": "mMsoyhwD-t5q"
      },
      "outputs": [],
      "source": [
        "def imshow(img):\n",
        "    t1 = torch.tensor([0.485, 0.456, 0.406])\n",
        "    t2 = torch.tensor([0.229, 0.224, 0.225])\n",
        "    img[0]*=t2[0]\n",
        "    img[1]*=t2[1]\n",
        "    img[2]*=t2[2]\n",
        "\n",
        "    img[0]+=t1[0]\n",
        "    img[1]+=t1[1]\n",
        "    img[2]+=t1[2]\n",
        "\n",
        "    npimg = img.numpy()\n",
        "    plt.imshow(np.transpose(npimg, (1, 2, 0)))\n",
        "    plt.show()"
      ]
    },
    {
      "cell_type": "code",
      "execution_count": 23,
      "metadata": {
        "colab": {
          "base_uri": "https://localhost:8080/",
          "height": 302
        },
        "id": "xs0BekaJRcdT",
        "outputId": "af5dcdb9-17d5-4ed6-f390-388f9f8a0053"
      },
      "outputs": [
        {
          "output_type": "display_data",
          "data": {
            "image/png": "[encoded data removed]",
            "text/plain": [
              "<Figure size 432x288 with 1 Axes>"
            ]
          },
          "metadata": {
            "needs_background": "light"
          }
        },
        {
          "output_type": "stream",
          "name": "stdout",
          "text": [
            "monkey\n",
            "torch.Size([3, 96, 96])\n"
          ]
        }
      ],
      "source": [
        "labels_map = {\n",
        "    0: \"airplane\",\n",
        "    1: \"bird\",\n",
        "    2: \"car\",\n",
        "    3: \"cat\",\n",
        "    4: \"deer\",\n",
        "    5: \"dog\",\n",
        "    6: \"horse\",\n",
        "    7: \"monkey\",\n",
        "    8: \"ship\",\n",
        "    9: \"truck\",\n",
        "}\n",
        "img, label = training_data[155]\n",
        "imshow(img)\n",
        "print(labels_map[label])\n",
        "print(img.shape)"
      ]
    },
    {
      "cell_type": "code",
      "execution_count": 24,
      "metadata": {
        "colab": {
          "base_uri": "https://localhost:8080/",
          "height": 286
        },
        "id": "TFrlZqG3UgIv",
        "outputId": "cb841ad3-e16d-4a6f-c81f-b14cbb768c8d"
      },
      "outputs": [
        {
          "output_type": "display_data",
          "data": {
            "image/png": "[encoded data removed]",
            "text/plain": [
              "<Figure size 432x288 with 1 Axes>"
            ]
          },
          "metadata": {
            "needs_background": "light"
          }
        },
        {
          "output_type": "stream",
          "name": "stdout",
          "text": [
            "ship\n"
          ]
        }
      ],
      "source": [
        "train_features, train_labels = next(iter(train_dataloader))\n",
        "img = train_features[0]\n",
        "imshow(img)\n",
        "print(labels_map[train_labels[0].item()])"
      ]
    },
    {
      "cell_type": "markdown",
      "metadata": {
        "id": "2oQIBiBhMaGm"
      },
      "source": [
        "## Train and Test functions"
      ]
    },
    {
      "cell_type": "code",
      "execution_count": 25,
      "metadata": {
        "id": "O-ROd9ydAsg_"
      },
      "outputs": [],
      "source": [
        "def train_model(model, dataloader, loss_func, optimizer, num_epochs = EPOCHS):\n",
        "    since = time.time()\n",
        "    model = model.to(device)\n",
        "    model.train()\n",
        "\n",
        "    for epoch in range(num_epochs):\n",
        "        print('Epoch {}/{}'.format(epoch, num_epochs - 1))\n",
        "        print('-' * 10)        \n",
        "\n",
        "        running_loss = 0.0\n",
        "        running_corrects = 0\n",
        "\n",
        "        for inputs, labels in dataloader:\n",
        "            inputs = inputs.to(device)\n",
        "            labels = labels.to(device)\n",
        "\n",
        "            optimizer.zero_grad()\n",
        "\n",
        "            with torch.set_grad_enabled(True):                    \n",
        "                outputs = model(inputs)\n",
        "                outputs = outputs.to(device)\n",
        "                loss = loss_func(outputs, labels)\n",
        "\n",
        "                _, preds = torch.max(outputs, 1)\n",
        "                \n",
        "                loss.backward()\n",
        "                optimizer.step()\n",
        "\n",
        "            running_loss += loss.item() * inputs.size(0)\n",
        "            running_corrects += torch.sum(preds == labels.data)\n",
        "\n",
        "        epoch_loss = running_loss / len(dataloader.dataset)\n",
        "        epoch_acc = running_corrects.double() / len(dataloader.dataset)\n",
        "\n",
        "        print('Loss: {:.4f} Acc: {:.4f}'.format(epoch_loss, epoch_acc))\n",
        "        print()\n",
        "\n",
        "    time_elapsed = time.time() - since\n",
        "    print('Training complete in {:.0f}m {:.0f}s'.format(time_elapsed // 60, time_elapsed % 60))\n",
        "\n",
        "    return"
      ]
    },
    {
      "cell_type": "code",
      "execution_count": 26,
      "metadata": {
        "id": "8jbB93OmYx4c"
      },
      "outputs": [],
      "source": [
        "def test(model):\n",
        "  corrects = 0\n",
        "  total = 0\n",
        "\n",
        "  for X,y in test_dataloader:\n",
        "      X = X.to(device)\n",
        "      y = y.to(device)\n",
        "      y_pred = model(X)\n",
        "      _, predicted = torch.max(y_pred.data, 1)\n",
        "      total += y.size(0)\n",
        "      corrects += (predicted == y).sum().item()\n",
        "\n",
        "  print(f\"Accuracy of the model : {(float(corrects)/total)*100}%\")"
      ]
    },
    {
      "cell_type": "markdown",
      "metadata": {
        "id": "0KZPAtqxKxDl"
      },
      "source": [
        "## ResNet 9 Model"
      ]
    },
    {
      "cell_type": "code",
      "execution_count": 27,
      "metadata": {
        "id": "3C1oz5ASdxD0"
      },
      "outputs": [],
      "source": [
        "def conv_block(in_channels, out_channels, pool=False):\n",
        "    layers = [\n",
        "                nn.Conv2d(in_channels, out_channels, kernel_size=3, padding=1), \n",
        "                nn.BatchNorm2d(out_channels), \n",
        "                nn.ReLU(inplace=True)\n",
        "              ]\n",
        "\n",
        "    if pool: \n",
        "      layers.append(nn.MaxPool2d(2))\n",
        "    \n",
        "    return nn.Sequential(*layers)\n",
        "\n",
        "class ResNet9(nn.Module):\n",
        "\n",
        "    def __init__(self, in_channels, num_classes):\n",
        "        super(ResNet9, self).__init__()\n",
        "        \n",
        "        self.conv1 = conv_block(in_channels, 64,pool=True)\n",
        "        self.conv2 = conv_block(64, 128, pool=True) \n",
        "        self.res1 = nn.Sequential(conv_block(128, 128), \n",
        "                                  conv_block(128, 128))\n",
        "        \n",
        "        self.conv3 = conv_block(128, 256, pool=True)\n",
        "        self.conv4 = conv_block(256, 512, pool=True)\n",
        "        self.res2 = nn.Sequential(conv_block(512, 512), \n",
        "                                  conv_block(512, 512))\n",
        "        \n",
        "        self.classifier = nn.Sequential(nn.MaxPool2d(6), \n",
        "                                        nn.Flatten(), \n",
        "                                        nn.Dropout(0.2),\n",
        "                                        nn.Linear(512, num_classes))\n",
        "        \n",
        "    def forward(self, xb):\n",
        "        out = self.conv1(xb)\n",
        "        out = self.conv2(out)\n",
        "        out = self.res1(out) + out\n",
        "        out = self.conv3(out)\n",
        "        out = self.conv4(out)\n",
        "        out = self.res2(out) + out\n",
        "        out = self.classifier(out)\n",
        "        return out"
      ]
    },
    {
      "cell_type": "code",
      "execution_count": 28,
      "metadata": {
        "colab": {
          "base_uri": "https://localhost:8080/"
        },
        "id": "E2gLPsi9dhkJ",
        "outputId": "66d64897-e99d-49df-cddb-f7e4a74fa542"
      },
      "outputs": [
        {
          "output_type": "stream",
          "name": "stdout",
          "text": [
            "ResNet9(\n",
            "  (conv1): Sequential(\n",
            "    (0): Conv2d(3, 64, kernel_size=(3, 3), stride=(1, 1), padding=(1, 1))\n",
            "    (1): BatchNorm2d(64, eps=1e-05, momentum=0.1, affine=True, track_running_stats=True)\n",
            "    (2): ReLU(inplace=True)\n",
            "    (3): MaxPool2d(kernel_size=2, stride=2, padding=0, dilation=1, ceil_mode=False)\n",
            "  )\n",
            "  (conv2): Sequential(\n",
            "    (0): Conv2d(64, 128, kernel_size=(3, 3), stride=(1, 1), padding=(1, 1))\n",
            "    (1): BatchNorm2d(128, eps=1e-05, momentum=0.1, affine=True, track_running_stats=True)\n",
            "    (2): ReLU(inplace=True)\n",
            "    (3): MaxPool2d(kernel_size=2, stride=2, padding=0, dilation=1, ceil_mode=False)\n",
            "  )\n",
            "  (res1): Sequential(\n",
            "    (0): Sequential(\n",
            "      (0): Conv2d(128, 128, kernel_size=(3, 3), stride=(1, 1), padding=(1, 1))\n",
            "      (1): BatchNorm2d(128, eps=1e-05, momentum=0.1, affine=True, track_running_stats=True)\n",
            "      (2): ReLU(inplace=True)\n",
            "    )\n",
            "    (1): Sequential(\n",
            "      (0): Conv2d(128, 128, kernel_size=(3, 3), stride=(1, 1), padding=(1, 1))\n",
            "      (1): BatchNorm2d(128, eps=1e-05, momentum=0.1, affine=True, track_running_stats=True)\n",
            "      (2): ReLU(inplace=True)\n",
            "    )\n",
            "  )\n",
            "  (conv3): Sequential(\n",
            "    (0): Conv2d(128, 256, kernel_size=(3, 3), stride=(1, 1), padding=(1, 1))\n",
            "    (1): BatchNorm2d(256, eps=1e-05, momentum=0.1, affine=True, track_running_stats=True)\n",
            "    (2): ReLU(inplace=True)\n",
            "    (3): MaxPool2d(kernel_size=2, stride=2, padding=0, dilation=1, ceil_mode=False)\n",
            "  )\n",
            "  (conv4): Sequential(\n",
            "    (0): Conv2d(256, 512, kernel_size=(3, 3), stride=(1, 1), padding=(1, 1))\n",
            "    (1): BatchNorm2d(512, eps=1e-05, momentum=0.1, affine=True, track_running_stats=True)\n",
            "    (2): ReLU(inplace=True)\n",
            "    (3): MaxPool2d(kernel_size=2, stride=2, padding=0, dilation=1, ceil_mode=False)\n",
            "  )\n",
            "  (res2): Sequential(\n",
            "    (0): Sequential(\n",
            "      (0): Conv2d(512, 512, kernel_size=(3, 3), stride=(1, 1), padding=(1, 1))\n",
            "      (1): BatchNorm2d(512, eps=1e-05, momentum=0.1, affine=True, track_running_stats=True)\n",
            "      (2): ReLU(inplace=True)\n",
            "    )\n",
            "    (1): Sequential(\n",
            "      (0): Conv2d(512, 512, kernel_size=(3, 3), stride=(1, 1), padding=(1, 1))\n",
            "      (1): BatchNorm2d(512, eps=1e-05, momentum=0.1, affine=True, track_running_stats=True)\n",
            "      (2): ReLU(inplace=True)\n",
            "    )\n",
            "  )\n",
            "  (classifier): Sequential(\n",
            "    (0): MaxPool2d(kernel_size=6, stride=6, padding=0, dilation=1, ceil_mode=False)\n",
            "    (1): Flatten(start_dim=1, end_dim=-1)\n",
            "    (2): Dropout(p=0.2, inplace=False)\n",
            "    (3): Linear(in_features=512, out_features=10, bias=True)\n",
            "  )\n",
            ")\n"
          ]
        }
      ],
      "source": [
        "model = ResNet9(3, 10)\n",
        "print(model)\n",
        "loss_fn = nn.CrossEntropyLoss()\n",
        "optimizer = torch.optim.Adam(params=model.parameters(), lr=LR)"
      ]
    },
    {
      "cell_type": "markdown",
      "metadata": {
        "id": "t69bYjvnYIG1"
      },
      "source": [
        "### Debug Block"
      ]
    },
    {
      "cell_type": "code",
      "execution_count": 29,
      "metadata": {
        "id": "sDWWLkYuKhia"
      },
      "outputs": [],
      "source": [
        "# class Net(nn.Module):\n",
        "#     def __init__(self):\n",
        "#         super(Net, self).__init__()\n",
        "#         self.conv_layer = nn.Sequential(\n",
        "\n",
        "#             # Conv Layer block 1\n",
        "#             nn.Conv2d(in_channels=3, out_channels=32, kernel_size=5, padding=0),\n",
        "#             nn.BatchNorm2d(32),\n",
        "#             nn.ReLU(inplace=True),\n",
        "#             nn.Conv2d(in_channels=32, out_channels=64, kernel_size=5, padding=0),\n",
        "#             nn.ReLU(inplace=True),\n",
        "#             nn.MaxPool2d(kernel_size=2, stride=2),\n",
        "\n",
        "#             # Conv Layer block 2\n",
        "#             nn.Conv2d(in_channels=64, out_channels=128, kernel_size=5, padding=0),\n",
        "#             nn.BatchNorm2d(128),\n",
        "#             nn.ReLU(inplace=True),\n",
        "#             nn.Conv2d(in_channels=128, out_channels=128, kernel_size=5, padding=0),\n",
        "#             nn.ReLU(inplace=True),\n",
        "#             nn.MaxPool2d(kernel_size=2, stride=2),\n",
        "#             nn.Dropout2d(p=0.06),\n",
        "\n",
        "#             # Conv Layer block 3\n",
        "#             nn.Conv2d(in_channels=128, out_channels=256, kernel_size=5, padding=0),\n",
        "#             nn.BatchNorm2d(256),\n",
        "#             nn.ReLU(inplace=True),\n",
        "#             nn.Conv2d(in_channels=256, out_channels=256, kernel_size=5, padding=0),\n",
        "#             nn.ReLU(inplace=True),\n",
        "#             nn.MaxPool2d(kernel_size=2, stride=2),\n",
        "#         )\n",
        "\n",
        "\n",
        "#         self.fc_layer = nn.Sequential(\n",
        "#             nn.Dropout(p=0.15),\n",
        "#             nn.Linear(6400, 1024),\n",
        "#             nn.ReLU(inplace=True),\n",
        "#             nn.Linear(1024, 512),\n",
        "#             nn.ReLU(inplace=True),\n",
        "#             nn.Dropout(p=0.15),\n",
        "#             nn.Linear(512, 10),\n",
        "#         )\n",
        "\n",
        "\n",
        "#     def forward(self, x):        \n",
        "#         # conv layers\n",
        "#         x = self.conv_layer(x)\n",
        "        \n",
        "#         # flatten\n",
        "#         x = x.view(x.size(0), -1)\n",
        "        \n",
        "#         # fc layer\n",
        "#         x = self.fc_layer(x)\n",
        "\n",
        "#         return x"
      ]
    },
    {
      "cell_type": "markdown",
      "metadata": {
        "id": "HEQrS6HbYNZ_"
      },
      "source": [
        "## Training"
      ]
    },
    {
      "cell_type": "code",
      "execution_count": 30,
      "metadata": {
        "colab": {
          "base_uri": "https://localhost:8080/"
        },
        "id": "Uxlu82mXtl0v",
        "outputId": "dfc439af-46b8-4c9b-82b0-96f6459638f0"
      },
      "outputs": [
        {
          "output_type": "stream",
          "name": "stdout",
          "text": [
            "Epoch 0/99\n",
            "----------\n",
            "Loss: 2.1033 Acc: 0.2914\n",
            "\n",
            "Epoch 1/99\n",
            "----------\n",
            "Loss: 1.6684 Acc: 0.3878\n",
            "\n",
            "Epoch 2/99\n",
            "----------\n",
            "Loss: 1.5417 Acc: 0.4322\n",
            "\n",
            "Epoch 3/99\n",
            "----------\n",
            "Loss: 1.4719 Acc: 0.4670\n",
            "\n",
            "Epoch 4/99\n",
            "----------\n",
            "Loss: 1.3247 Acc: 0.5132\n",
            "\n",
            "Epoch 5/99\n",
            "----------\n",
            "Loss: 1.2427 Acc: 0.5382\n",
            "\n",
            "Epoch 6/99\n",
            "----------\n",
            "Loss: 1.1958 Acc: 0.5586\n",
            "\n",
            "Epoch 7/99\n",
            "----------\n",
            "Loss: 1.1285 Acc: 0.5800\n",
            "\n",
            "Epoch 8/99\n",
            "----------\n",
            "Loss: 1.0918 Acc: 0.5932\n",
            "\n",
            "Epoch 9/99\n",
            "----------\n",
            "Loss: 1.0265 Acc: 0.6280\n",
            "\n",
            "Epoch 10/99\n",
            "----------\n",
            "Loss: 1.0044 Acc: 0.6390\n",
            "\n",
            "Epoch 11/99\n",
            "----------\n",
            "Loss: 0.9957 Acc: 0.6372\n",
            "\n",
            "Epoch 12/99\n",
            "----------\n",
            "Loss: 0.9464 Acc: 0.6458\n",
            "\n",
            "Epoch 13/99\n",
            "----------\n",
            "Loss: 0.9019 Acc: 0.6704\n",
            "\n",
            "Epoch 14/99\n",
            "----------\n",
            "Loss: 0.9192 Acc: 0.6692\n",
            "\n",
            "Epoch 15/99\n",
            "----------\n",
            "Loss: 0.8515 Acc: 0.6850\n",
            "\n",
            "Epoch 16/99\n",
            "----------\n",
            "Loss: 0.8588 Acc: 0.6856\n",
            "\n",
            "Epoch 17/99\n",
            "----------\n",
            "Loss: 0.8144 Acc: 0.7048\n",
            "\n",
            "Epoch 18/99\n",
            "----------\n",
            "Loss: 0.7800 Acc: 0.7136\n",
            "\n",
            "Epoch 19/99\n",
            "----------\n",
            "Loss: 0.7940 Acc: 0.7100\n",
            "\n",
            "Epoch 20/99\n",
            "----------\n",
            "Loss: 0.7595 Acc: 0.7202\n",
            "\n",
            "Epoch 21/99\n",
            "----------\n",
            "Loss: 0.7355 Acc: 0.7324\n",
            "\n",
            "Epoch 22/99\n",
            "----------\n",
            "Loss: 0.6829 Acc: 0.7506\n",
            "\n",
            "Epoch 23/99\n",
            "----------\n",
            "Loss: 0.6777 Acc: 0.7544\n",
            "\n",
            "Epoch 24/99\n",
            "----------\n",
            "Loss: 0.6421 Acc: 0.7730\n",
            "\n",
            "Epoch 25/99\n",
            "----------\n",
            "Loss: 0.6341 Acc: 0.7666\n",
            "\n",
            "Epoch 26/99\n",
            "----------\n",
            "Loss: 0.6095 Acc: 0.7810\n",
            "\n",
            "Epoch 27/99\n",
            "----------\n",
            "Loss: 0.6213 Acc: 0.7764\n",
            "\n",
            "Epoch 28/99\n",
            "----------\n",
            "Loss: 0.6376 Acc: 0.7594\n",
            "\n",
            "Epoch 29/99\n",
            "----------\n",
            "Loss: 0.6385 Acc: 0.7782\n",
            "\n",
            "Epoch 30/99\n",
            "----------\n",
            "Loss: 0.5821 Acc: 0.7834\n",
            "\n",
            "Epoch 31/99\n",
            "----------\n",
            "Loss: 0.5524 Acc: 0.8042\n",
            "\n",
            "Epoch 32/99\n",
            "----------\n",
            "Loss: 0.5747 Acc: 0.7922\n",
            "\n",
            "Epoch 33/99\n",
            "----------\n",
            "Loss: 0.5187 Acc: 0.8106\n",
            "\n",
            "Epoch 34/99\n",
            "----------\n",
            "Loss: 0.5074 Acc: 0.8154\n",
            "\n",
            "Epoch 35/99\n",
            "----------\n",
            "Loss: 0.4793 Acc: 0.8196\n",
            "\n",
            "Epoch 36/99\n",
            "----------\n",
            "Loss: 0.4649 Acc: 0.8308\n",
            "\n",
            "Epoch 37/99\n",
            "----------\n",
            "Loss: 0.4915 Acc: 0.8202\n",
            "\n",
            "Epoch 38/99\n",
            "----------\n",
            "Loss: 0.4717 Acc: 0.8252\n",
            "\n",
            "Epoch 39/99\n",
            "----------\n",
            "Loss: 0.4581 Acc: 0.8354\n",
            "\n",
            "Epoch 40/99\n",
            "----------\n",
            "Loss: 0.4086 Acc: 0.8508\n",
            "\n",
            "Epoch 41/99\n",
            "----------\n",
            "Loss: 0.4039 Acc: 0.8518\n",
            "\n",
            "Epoch 42/99\n",
            "----------\n",
            "Loss: 0.3864 Acc: 0.8584\n",
            "\n",
            "Epoch 43/99\n",
            "----------\n",
            "Loss: 0.4103 Acc: 0.8548\n",
            "\n",
            "Epoch 44/99\n",
            "----------\n",
            "Loss: 0.4220 Acc: 0.8464\n",
            "\n",
            "Epoch 45/99\n",
            "----------\n",
            "Loss: 0.3688 Acc: 0.8668\n",
            "\n",
            "Epoch 46/99\n",
            "----------\n",
            "Loss: 0.3294 Acc: 0.8820\n",
            "\n",
            "Epoch 47/99\n",
            "----------\n",
            "Loss: 0.4309 Acc: 0.8470\n",
            "\n",
            "Epoch 48/99\n",
            "----------\n",
            "Loss: 0.3112 Acc: 0.8914\n",
            "\n",
            "Epoch 49/99\n",
            "----------\n",
            "Loss: 0.2924 Acc: 0.8902\n",
            "\n",
            "Epoch 50/99\n",
            "----------\n",
            "Loss: 0.3204 Acc: 0.8810\n",
            "\n",
            "Epoch 51/99\n",
            "----------\n",
            "Loss: 0.2832 Acc: 0.8960\n",
            "\n",
            "Epoch 52/99\n",
            "----------\n",
            "Loss: 0.2935 Acc: 0.8918\n",
            "\n",
            "Epoch 53/99\n",
            "----------\n",
            "Loss: 0.3513 Acc: 0.8828\n",
            "\n",
            "Epoch 54/99\n",
            "----------\n",
            "Loss: 0.3203 Acc: 0.8862\n",
            "\n",
            "Epoch 55/99\n",
            "----------\n",
            "Loss: 0.3610 Acc: 0.8694\n",
            "\n",
            "Epoch 56/99\n",
            "----------\n",
            "Loss: 0.3175 Acc: 0.8916\n",
            "\n",
            "Epoch 57/99\n",
            "----------\n",
            "Loss: 0.2411 Acc: 0.9106\n",
            "\n",
            "Epoch 58/99\n",
            "----------\n",
            "Loss: 0.2584 Acc: 0.9106\n",
            "\n",
            "Epoch 59/99\n",
            "----------\n",
            "Loss: 0.2606 Acc: 0.9076\n",
            "\n",
            "Epoch 60/99\n",
            "----------\n",
            "Loss: 0.2281 Acc: 0.9116\n",
            "\n",
            "Epoch 61/99\n",
            "----------\n",
            "Loss: 0.2240 Acc: 0.9194\n",
            "\n",
            "Epoch 62/99\n",
            "----------\n",
            "Loss: 0.2038 Acc: 0.9268\n",
            "\n",
            "Epoch 63/99\n",
            "----------\n",
            "Loss: 0.2508 Acc: 0.9076\n",
            "\n",
            "Epoch 64/99\n",
            "----------\n",
            "Loss: 0.1595 Acc: 0.9420\n",
            "\n",
            "Epoch 65/99\n",
            "----------\n",
            "Loss: 0.1796 Acc: 0.9394\n",
            "\n",
            "Epoch 66/99\n",
            "----------\n",
            "Loss: 0.1969 Acc: 0.9314\n",
            "\n",
            "Epoch 67/99\n",
            "----------\n",
            "Loss: 0.2439 Acc: 0.9126\n",
            "\n",
            "Epoch 68/99\n",
            "----------\n",
            "Loss: 0.1923 Acc: 0.9316\n",
            "\n",
            "Epoch 69/99\n",
            "----------\n",
            "Loss: 0.1651 Acc: 0.9418\n",
            "\n",
            "Epoch 70/99\n",
            "----------\n",
            "Loss: 0.1769 Acc: 0.9368\n",
            "\n",
            "Epoch 71/99\n",
            "----------\n",
            "Loss: 0.2109 Acc: 0.9318\n",
            "\n",
            "Epoch 72/99\n",
            "----------\n",
            "Loss: 0.1567 Acc: 0.9422\n",
            "\n",
            "Epoch 73/99\n",
            "----------\n",
            "Loss: 0.1344 Acc: 0.9504\n",
            "\n",
            "Epoch 74/99\n",
            "----------\n",
            "Loss: 0.1365 Acc: 0.9522\n",
            "\n",
            "Epoch 75/99\n",
            "----------\n",
            "Loss: 0.2310 Acc: 0.9200\n",
            "\n",
            "Epoch 76/99\n",
            "----------\n",
            "Loss: 0.2585 Acc: 0.9098\n",
            "\n",
            "Epoch 77/99\n",
            "----------\n",
            "Loss: 0.1619 Acc: 0.9412\n",
            "\n",
            "Epoch 78/99\n",
            "----------\n",
            "Loss: 0.1363 Acc: 0.9518\n",
            "\n",
            "Epoch 79/99\n",
            "----------\n",
            "Loss: 0.2054 Acc: 0.9334\n",
            "\n",
            "Epoch 80/99\n",
            "----------\n",
            "Loss: 0.1315 Acc: 0.9528\n",
            "\n",
            "Epoch 81/99\n",
            "----------\n",
            "Loss: 0.1425 Acc: 0.9492\n",
            "\n",
            "Epoch 82/99\n",
            "----------\n",
            "Loss: 0.1097 Acc: 0.9614\n",
            "\n",
            "Epoch 83/99\n",
            "----------\n",
            "Loss: 0.1268 Acc: 0.9564\n",
            "\n",
            "Epoch 84/99\n",
            "----------\n",
            "Loss: 0.1202 Acc: 0.9556\n",
            "\n",
            "Epoch 85/99\n",
            "----------\n",
            "Loss: 0.1017 Acc: 0.9646\n",
            "\n",
            "Epoch 86/99\n",
            "----------\n",
            "Loss: 0.1053 Acc: 0.9652\n",
            "\n",
            "Epoch 87/99\n",
            "----------\n",
            "Loss: 0.0988 Acc: 0.9644\n",
            "\n",
            "Epoch 88/99\n",
            "----------\n",
            "Loss: 0.1746 Acc: 0.9386\n",
            "\n",
            "Epoch 89/99\n",
            "----------\n",
            "Loss: 0.1241 Acc: 0.9548\n",
            "\n",
            "Epoch 90/99\n",
            "----------\n",
            "Loss: 0.1050 Acc: 0.9610\n",
            "\n",
            "Epoch 91/99\n",
            "----------\n",
            "Loss: 0.0829 Acc: 0.9690\n",
            "\n",
            "Epoch 92/99\n",
            "----------\n",
            "Loss: 0.0937 Acc: 0.9686\n",
            "\n",
            "Epoch 93/99\n",
            "----------\n",
            "Loss: 0.0817 Acc: 0.9678\n",
            "\n",
            "Epoch 94/99\n",
            "----------\n",
            "Loss: 0.0827 Acc: 0.9698\n",
            "\n",
            "Epoch 95/99\n",
            "----------\n",
            "Loss: 0.0774 Acc: 0.9744\n",
            "\n",
            "Epoch 96/99\n",
            "----------\n",
            "Loss: 0.1220 Acc: 0.9594\n",
            "\n",
            "Epoch 97/99\n",
            "----------\n",
            "Loss: 0.0937 Acc: 0.9694\n",
            "\n",
            "Epoch 98/99\n",
            "----------\n",
            "Loss: 0.1054 Acc: 0.9626\n",
            "\n",
            "Epoch 99/99\n",
            "----------\n",
            "Loss: 0.0897 Acc: 0.9692\n",
            "\n",
            "Training complete in 34m 8s\n"
          ]
        }
      ],
      "source": [
        "train_model(model, train_dataloader, loss_fn, optimizer)"
      ]
    },
    {
      "cell_type": "code",
      "execution_count": 31,
      "metadata": {
        "id": "iG5HvHdgfcQc"
      },
      "outputs": [],
      "source": [
        "# model.load_state_dict(torch.load(\"/content/drive/MyDrive/data/weights_stl10.pth\", map_location=torch.device(device)))"
      ]
    },
    {
      "cell_type": "code",
      "execution_count": 32,
      "metadata": {
        "colab": {
          "base_uri": "https://localhost:8080/"
        },
        "id": "spMRhhUiY9ou",
        "outputId": "0a7d90c5-fe5f-4fbb-d5eb-4022a89ef056"
      },
      "outputs": [
        {
          "output_type": "stream",
          "name": "stdout",
          "text": [
            "Accuracy of the model : 73.32499999999999%\n"
          ]
        }
      ],
      "source": [
        "test(model)"
      ]
    },
    {
      "cell_type": "code",
      "execution_count": 33,
      "metadata": {
        "id": "uWe0l277Uv68"
      },
      "outputs": [],
      "source": [
        "torch.save(model.state_dict(), '/content/drive/MyDrive/data/weights_stl10_supervised_final.pth')"
      ]
    }
  ],
  "metadata": {
    "accelerator": "GPU",
    "colab": {
      "name": "Supervised_Learning.ipynb",
      "provenance": [],
      "include_colab_link": true
    },
    "kernelspec": {
      "display_name": "Python 3",
      "name": "python3"
    },
    "language_info": {
      "name": "python"
    }
  },
  "nbformat": 4,
  "nbformat_minor": 0
}